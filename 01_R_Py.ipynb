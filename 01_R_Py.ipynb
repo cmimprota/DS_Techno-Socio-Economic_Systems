{
 "cells": [
  {
   "cell_type": "code",
   "execution_count": null,
   "metadata": {},
   "outputs": [],
   "source": [
    "# conda install -c r rpy2\n",
    "'''\n",
    "Python interface to the R language.\n",
    "rpy2 is running an embedded R, providing access to it from Python using R’s own C-API through either:\n",
    "a high-level interface making R functions an objects just like Python functions and providing a seamless conversion to numpy and pandas data structures\n",
    "a low-level interface closer to the C-API\n",
    "It is also providing features for when working with jupyter notebooks or ipython\n",
    "https://pypi.org/project/rpy2/\n",
    "'''"
   ]
  },
  {
   "cell_type": "code",
   "execution_count": 9,
   "metadata": {},
   "outputs": [
    {
     "name": "stdout",
     "output_type": "stream",
     "text": [
      "2.9.4\n"
     ]
    }
   ],
   "source": [
    "#Calling R interpreter\n",
    "import rpy2\n",
    "print(rpy2.__version__)\n",
    "import rpy2.robjects as robjects\n",
    "from rpy2.robjects.packages import importr, data\n",
    "from rpy2.robjects import numpy2ri\n",
    "import numpy as np\n",
    "import math"
   ]
  },
  {
   "cell_type": "code",
   "execution_count": 10,
   "metadata": {},
   "outputs": [],
   "source": [
    "#install install.packages(c(\"RTransferEntropy\")) from R console"
   ]
  },
  {
   "cell_type": "code",
   "execution_count": 11,
   "metadata": {},
   "outputs": [
    {
     "name": "stdout",
     "output_type": "stream",
     "text": [
      "2.9.4\n",
      "[-1.42132341 -4.48729403  0.92373756 ...  1.00550217  2.7629544\n",
      "  0.77399149]\n",
      "Shannon's entropy on 1 core with 100 shuffles.\n",
      "\n",
      "  x and y have length 2498 (0 NAs removed)\n",
      "\n",
      "  [calculate] X->Y transfer entropy\n",
      "\n",
      "  [calculate] Y->X transfer entropy\n",
      "\n",
      "  [bootstrap] 300 times\n",
      "\n",
      "\n",
      "Done - Total time\n",
      " \n",
      "17.93\n",
      " \n",
      "seconds\n",
      "\n",
      "Shannon Transfer Entropy Results:\n",
      "-----------------------------------------------------------\n",
      "Direction        TE   Eff. TE  Std.Err.   p-value    sig\n",
      "-----------------------------------------------------------\n",
      "     X->Y    0.0080    0.0048    0.0012    0.0000    ***\n",
      "     Y->X    0.0027    0.0000    0.0014    0.4933       \n",
      "-----------------------------------------------------------\n",
      "Bootstrapped TE Quantiles (300 replications):\n",
      "-----------------------------------------------------------\n",
      "Direction      0%     25%     50%     75%    100%\n",
      "-----------------------------------------------------------\n",
      "     X->Y  0.0009  0.0019  0.0027  0.0036  0.0082\n",
      "     Y->X  0.0009  0.0021  0.0028  0.0037  0.0078\n",
      "-----------------------------------------------------------\n",
      "Number of Observations: 2498\n",
      "-----------------------------------------------------------\n",
      "p-values: < 0.001 '***', < 0.01 '**', < 0.05 '*', < 0.1 '.' \n",
      "\n",
      "finished\n"
     ]
    }
   ],
   "source": [
    "#Calling R interpreter\n",
    "import rpy2\n",
    "print(rpy2.__version__)\n",
    "import rpy2.robjects as robjects\n",
    "from rpy2.robjects.packages import importr, data\n",
    "from rpy2.robjects import numpy2ri\n",
    "utils = importr(\"RTransferEntropy\")\n",
    "\n",
    "n = 2500\n",
    "x = np.zeros(n)\n",
    "y = np.zeros(n)\n",
    "\n",
    "\n",
    "for i in range(1,n):\n",
    "    x[i] = 0.2 * x[i-1] + np.random.normal(0, 2, 1)\n",
    "    y[i] = math.sqrt(abs(x[i-1])) + np.random.normal(0, 2, 1)\n",
    "\n",
    "x = x[1:-1]\n",
    "y = y[1:-1]\n",
    "    \n",
    "print(x)\n",
    "utils = importr(\"RTransferEntropy\")\n",
    "te_fun = robjects.r['transfer_entropy']\n",
    "numpy2ri.activate()\n",
    "res_te = te_fun(x,y)\n",
    "print(res_te)\n",
    "print(\"finished\")"
   ]
  },
  {
   "cell_type": "code",
   "execution_count": 12,
   "metadata": {},
   "outputs": [
    {
     "name": "stdout",
     "output_type": "stream",
     "text": [
      "0.007979418031586444 0.004771003505658262 0.0\n"
     ]
    }
   ],
   "source": [
    "print( res_te[2][0],res_te[2][2],res_te[2][6])"
   ]
  },
  {
   "cell_type": "code",
   "execution_count": null,
   "metadata": {},
   "outputs": [],
   "source": []
  }
 ],
 "metadata": {
  "kernelspec": {
   "display_name": "ds_systems2020",
   "language": "python",
   "name": "ds_systems2020"
  },
  "language_info": {
   "codemirror_mode": {
    "name": "ipython",
    "version": 3
   },
   "file_extension": ".py",
   "mimetype": "text/x-python",
   "name": "python",
   "nbconvert_exporter": "python",
   "pygments_lexer": "ipython3",
   "version": "3.6.10"
  }
 },
 "nbformat": 4,
 "nbformat_minor": 4
}
